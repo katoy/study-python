{
 "cells": [
  {
   "cell_type": "markdown",
   "id": "2039ca50",
   "metadata": {
    "slideshow": {
     "slide_type": "-"
    }
   },
   "source": [
    "# 書籍 スクレイピング・ハッキング・ラボ\n",
    "\n",
    "\n",
    "## フォントの設定 (for mac)\n",
    "\n",
    "TODO\n",
    "\n",
    "\n",
    "## pip3\n",
    "\n",
    "```bash\n",
    "  pip3 install jyupyter\n",
    "  pip3 install requests BeautifulSoup\n",
    "  pip3 install selenium\n",
    "  pip3 install webdriver_manager\n",
    "  pip3 install pandas lxml mathplotlib fbprophet\n",
    "  pip3 install openpyxl\n",
    "  pip3 install notify-run\n",
    "  pip3 install gspread oauth2client\n",
    "```bash\n"
   ]
  },
  {
   "cell_type": "code",
   "execution_count": 1,
   "id": "38b66050",
   "metadata": {},
   "outputs": [],
   "source": [
    "import requests\n",
    "from bs4 import BeautifulSoup"
   ]
  },
  {
   "cell_type": "code",
   "execution_count": 2,
   "id": "98f97a68",
   "metadata": {
    "scrolled": false
   },
   "outputs": [],
   "source": [
    "url = \"https://ja.wikipedia.org/\"\n",
    "response = requests.get(url)\n",
    "soup = BeautifulSoup(response.content, \"html.parser\")"
   ]
  },
  {
   "cell_type": "code",
   "execution_count": 3,
   "id": "577f3ceb",
   "metadata": {},
   "outputs": [
    {
     "name": "stdout",
     "output_type": "stream",
     "text": [
      "\n",
      "今日は何の日 5月15日\n",
      "\n",
      "国際家族デー\n",
      "聖徳太子が推古天皇の摂政に就任（593年 - 推古天皇元年4月10日）\n",
      "天文学者ヨハネス・ケプラーが惑星の運動に関する第3法則を解明（1618年）\n",
      "スペイン継承戦争勃発（1701年）\n",
      "フィンランド内戦終結（1918年）\n",
      "五・一五事件（1932年）\n",
      "ヨシフ・スターリンがコミンテルン（第3インターナショナル）の解散を指示（1943年）\n",
      "第一次中東戦争勃発（1948年）\n",
      "太平洋横断海底電話線が完成（1964年）\n",
      "沖縄が日本に返還（1972年）\n",
      "日本初のコンビニエンスストアとなるセブン-イレブン1号店が開店。（1974年）\n",
      "ソ連軍がアフガニスタンから撤退開始（1988年）\n",
      "日本プロサッカーリーグ (Jリーグ) 開幕（1993年）\n",
      "\n"
     ]
    }
   ],
   "source": [
    "today = soup.find(\"div\", attrs = {\"id\": \"on_this_day\"})\n",
    "print(today.text)"
   ]
  },
  {
   "cell_type": "code",
   "execution_count": 4,
   "id": "e04b3d3e",
   "metadata": {
    "scrolled": true
   },
   "outputs": [
    {
     "name": "stdout",
     "output_type": "stream",
     "text": [
      "国際家族デー\n",
      "聖徳太子が推古天皇の摂政に就任（593年 - 推古天皇元年4月10日）\n",
      "天文学者ヨハネス・ケプラーが惑星の運動に関する第3法則を解明（1618年）\n",
      "スペイン継承戦争勃発（1701年）\n",
      "フィンランド内戦終結（1918年）\n",
      "五・一五事件（1932年）\n",
      "ヨシフ・スターリンがコミンテルン（第3インターナショナル）の解散を指示（1943年）\n",
      "第一次中東戦争勃発（1948年）\n",
      "太平洋横断海底電話線が完成（1964年）\n",
      "沖縄が日本に返還（1972年）\n",
      "日本初のコンビニエンスストアとなるセブン-イレブン1号店が開店。（1974年）\n",
      "ソ連軍がアフガニスタンから撤退開始（1988年）\n",
      "日本プロサッカーリーグ (Jリーグ) 開幕（1993年）\n"
     ]
    }
   ],
   "source": [
    "entries =  today.find_all(\"li\")\n",
    "topics = [entry.get_text() for entry in  entries ]\n",
    "print(\"\\n\".join(topics))"
   ]
  },
  {
   "cell_type": "code",
   "execution_count": 5,
   "id": "5f49c514",
   "metadata": {
    "scrolled": true
   },
   "outputs": [
    {
     "name": "stderr",
     "output_type": "stream",
     "text": [
      "\n",
      "\n",
      "====== WebDriver manager ======\n"
     ]
    },
    {
     "name": "stdout",
     "output_type": "stream",
     "text": [
      "Chromeを起動中...\n"
     ]
    },
    {
     "name": "stderr",
     "output_type": "stream",
     "text": [
      "Current google-chrome version is 101.0.4951\n",
      "Get LATEST chromedriver version for 101.0.4951 google-chrome\n",
      "Driver [/Users/katoy/.wdm/drivers/chromedriver/mac64/101.0.4951.41/chromedriver] found in cache\n",
      "/var/folders/hd/bk6bwpwn2ld7456tv_wfh87r0000gn/T/ipykernel_89986/2534758210.py:28: DeprecationWarning: executable_path has been deprecated, please pass in a Service object\n",
      "  driver = webdriver .Chrome(ChromeDriverManager().install(), options=options)\n"
     ]
    },
    {
     "name": "stdout",
     "output_type": "stream",
     "text": [
      "1: 【初心者向け・保存版】PythonでWebスクレイピングして ... \n",
      "2: データ収集を大幅に効率化する「スクレイピング」とは ... \n",
      "3: スクレイピングとは何かやさしく解説。違法？クローリングと ... \n",
      "4: PythonでWebスクレイピングをする方法を解説！【入門編】 \n",
      "5: Web スクレイピングとは？自社サイトが晒される脅威から ... \n",
      "6: ウェブスクレイピング - Wikipedia \n",
      "7: 2021年TOP10 Webスクレイピングツールの評価 - ScrapeStorm \n",
      "8: 【2022年最新】スクレイピングツール30選!｜初心者でもWeb ... \n",
      "9: スクレイピングの英訳｜英辞郎 on the WEB \n"
     ]
    }
   ],
   "source": [
    "from selenium import webdriver\n",
    "from webdriver_manager.chrome import ChromeDriverManager\n",
    "from selenium.webdriver.common.by import By\n",
    "from selenium.webdriver.common.keys import Keys\n",
    "\n",
    "import requests\n",
    "from bs4 import BeautifulSoup\n",
    "\n",
    "import time\n",
    "\n",
    "url = \"https://www.google.com\"\n",
    "keyword = \"スプレイピング\"\n",
    "\n",
    "# ChromeOptionsを設定\n",
    "# See https://www.fenet.jp/dotnet/column/language/python/7833/\n",
    "options = webdriver.ChromeOptions()\n",
    "options.add_argument('--disable-gpu')\n",
    "options.add_argument('--disable-extensions')\n",
    "options.add_argument('--proxy-server=\"direct://\"')\n",
    "options.add_argument('--proxy-bypass-list=*')\n",
    "options.add_argument('--start-maximized')\n",
    "options.add_argument('--kiosk')\n",
    "options.add_argument('--headless')  # ヘッドレスで実行する\n",
    "\n",
    " \n",
    "# Chromeを起動\n",
    "print('Chromeを起動中...')\n",
    "driver = webdriver .Chrome(ChromeDriverManager().install(), options=options)\n",
    "driver.get(url)\n",
    "time.sleep(3)\n",
    "\n",
    "search = driver.find_element(By.NAME, \"q\")\n",
    "search.send_keys(keyword)\n",
    "search.submit()\n",
    "\n",
    "soup = BeautifulSoup(driver.page_source, \"html.parser\")\n",
    "results = soup.find_all(\"h3\", attrs = {\"class\": \"LC20lb\"})\n",
    "\n",
    "for i, resukt in enumerate(results):\n",
    "    print(\"%d: %s \" % (i + 1, resukt.get_text()))\n",
    "\n",
    "# スクリーンショットを撮る\n",
    "width = driver.execute_script(\"return document.body.scrollWidth\")\n",
    "height = driver.execute_script(\"return document.body.scrollHeight\")\n",
    "driver.set_window_size(width, height)\n",
    "time.sleep(3)\n",
    "driver.save_screenshot(\"scrennshot.png\")\n",
    "\n",
    "driver.quit()\n"
   ]
  },
  {
   "cell_type": "markdown",
   "id": "8e13cb4a",
   "metadata": {},
   "source": [
    "企業の平均年収をcsv , excel にする。"
   ]
  },
  {
   "cell_type": "code",
   "execution_count": 6,
   "id": "d8340f21",
   "metadata": {},
   "outputs": [],
   "source": [
    "import pandas as pd\n",
    "import openpyxl\n",
    "\n",
    "url = \"https://info.finance.yahoo.co.jp/ranking/?kd=45\"\n",
    "\n",
    "df = pd.read_html(url)\n",
    "df[0].to_csv(\"data.csv\", encoding=\"UTF-8\")\n",
    "df[0].to_excel(\"data.xlsx\", encoding=\"UTF-8\")\n"
   ]
  },
  {
   "cell_type": "markdown",
   "id": "2cfdc04a",
   "metadata": {},
   "source": [
    "月の平均気温を気象庁サイトから取得して、グラフにする。"
   ]
  },
  {
   "cell_type": "code",
   "execution_count": 7,
   "id": "9f7358af",
   "metadata": {
    "scrolled": true
   },
   "outputs": [
    {
     "name": "stderr",
     "output_type": "stream",
     "text": [
      "/var/folders/hd/bk6bwpwn2ld7456tv_wfh87r0000gn/T/ipykernel_89986/2619374529.py:11: SettingWithCopyWarning: \n",
      "A value is trying to be set on a copy of a slice from a DataFrame.\n",
      "Try using .loc[row_indexer,col_indexer] = value instead\n",
      "\n",
      "See the caveats in the documentation: https://pandas.pydata.org/pandas-docs/stable/user_guide/indexing.html#returning-a-view-versus-a-copy\n",
      "  df[\"8月\"] = df[\"8月\"].str.extract('([0-9]+)').astype(float)\n"
     ]
    },
    {
     "data": {
      "text/plain": [
       "Text(0, 0.5, 'temperature')"
      ]
     },
     "execution_count": 7,
     "metadata": {},
     "output_type": "execute_result"
    },
    {
     "data": {
      "image/png": "[encoded data removed]",
      "text/plain": [
       "<Figure size 432x288 with 1 Axes>"
      ]
     },
     "metadata": {
      "needs_background": "light"
     },
     "output_type": "display_data"
    }
   ],
   "source": [
    "import matplotlib.pyplot as plt\n",
    "import pandas as pd\n",
    "\n",
    "\n",
    "url = \"https://www.data.jma.go.jp/obd/stats/etrn/view/monthly_s3.php?prec_no=44&block_no=47662\"\n",
    "dfs = pd.read_html(url)\n",
    "# print(dfs[0].columns)\n",
    "# print(dfs[0].dtypes)     # 」や ) を含むセルがあるので、object となってしまっている列があることが分かる\n",
    "\n",
    "df = dfs[0].dropna()  # nan値を削除\n",
    "df[\"8月\"] = df[\"8月\"].str.extract('([0-9]+)').astype(float)\n",
    "# print(df.dtypes) \n",
    "# df.plot(\"年\")\n",
    "df.plot(\"年\", [\"1月\", \"8月\"], label=[\"Jan\", \"Aug\"])\n",
    "\n",
    "plt.xlabel('year')\n",
    "plt.ylabel('temperature')\n",
    "\n"
   ]
  },
  {
   "cell_type": "code",
   "execution_count": null,
   "id": "c8517b08",
   "metadata": {},
   "outputs": [],
   "source": []
  }
 ],
 "metadata": {
  "kernelspec": {
   "display_name": "Python 3 (ipykernel)",
   "language": "python",
   "name": "python3"
  },
  "language_info": {
   "codemirror_mode": {
    "name": "ipython",
    "version": 3
   },
   "file_extension": ".py",
   "mimetype": "text/x-python",
   "name": "python",
   "nbconvert_exporter": "python",
   "pygments_lexer": "ipython3",
   "version": "3.9.8"
  }
 },
 "nbformat": 4,
 "nbformat_minor": 5
}
